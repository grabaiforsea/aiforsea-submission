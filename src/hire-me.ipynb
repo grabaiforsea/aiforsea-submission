{
 "cells": [
  {
   "cell_type": "markdown",
   "metadata": {
    "toc": true
   },
   "source": [
    "<h1>Table of Contents<span class=\"tocSkip\"></span></h1>\n",
    "<div class=\"toc\"><ul class=\"toc-item\"><li><span><a href=\"#-Forewords-\" data-toc-modified-id=\"-Forewords--1\"><span class=\"toc-item-num\">1&nbsp;&nbsp;</span> Forewords </a></span></li><li><span><a href=\"#Imports\" data-toc-modified-id=\"Imports-2\"><span class=\"toc-item-num\">2&nbsp;&nbsp;</span>Imports</a></span></li><li><span><a href=\"#Get-Data,-Explore,-and-Process\" data-toc-modified-id=\"Get-Data,-Explore,-and-Process-3\"><span class=\"toc-item-num\">3&nbsp;&nbsp;</span>Get Data, Explore, and Process</a></span><ul class=\"toc-item\"><li><span><a href=\"#Time-Features\" data-toc-modified-id=\"Time-Features-3.1\"><span class=\"toc-item-num\">3.1&nbsp;&nbsp;</span>Time Features</a></span></li><li><span><a href=\"#Locales\" data-toc-modified-id=\"Locales-3.2\"><span class=\"toc-item-num\">3.2&nbsp;&nbsp;</span>Locales</a></span></li><li><span><a href=\"#Time-Features-v2\" data-toc-modified-id=\"Time-Features-v2-3.3\"><span class=\"toc-item-num\">3.3&nbsp;&nbsp;</span>Time Features v2</a></span></li></ul></li><li><span><a href=\"#Training\" data-toc-modified-id=\"Training-4\"><span class=\"toc-item-num\">4&nbsp;&nbsp;</span>Training</a></span><ul class=\"toc-item\"><li><span><a href=\"#Testing-the-Waters-with-Prediction-on-Single-Locale\" data-toc-modified-id=\"Testing-the-Waters-with-Prediction-on-Single-Locale-4.1\"><span class=\"toc-item-num\">4.1&nbsp;&nbsp;</span>Testing the Waters with Prediction on Single Locale</a></span><ul class=\"toc-item\"><li><span><a href=\"#Linear-Regression\" data-toc-modified-id=\"Linear-Regression-4.1.1\"><span class=\"toc-item-num\">4.1.1&nbsp;&nbsp;</span>Linear Regression</a></span></li><li><span><a href=\"#Ridge-Regression-Whose-Alpha-is-Searched-by-Bayes\" data-toc-modified-id=\"Ridge-Regression-Whose-Alpha-is-Searched-by-Bayes-4.1.2\"><span class=\"toc-item-num\">4.1.2&nbsp;&nbsp;</span>Ridge Regression Whose Alpha is Searched by Bayes</a></span></li><li><span><a href=\"#LightGBM,-Everyone's-Favorite-But-Not-XGBoost\" data-toc-modified-id=\"LightGBM,-Everyone's-Favorite-But-Not-XGBoost-4.1.3\"><span class=\"toc-item-num\">4.1.3&nbsp;&nbsp;</span>LightGBM, Everyone's Favorite But Not XGBoost</a></span></li><li><span><a href=\"#XGBoost,-Everyone's-Favorite-But-Not-LightGBM\" data-toc-modified-id=\"XGBoost,-Everyone's-Favorite-But-Not-LightGBM-4.1.4\"><span class=\"toc-item-num\">4.1.4&nbsp;&nbsp;</span>XGBoost, Everyone's Favorite But Not LightGBM</a></span></li><li><span><a href=\"#Blend\" data-toc-modified-id=\"Blend-4.1.5\"><span class=\"toc-item-num\">4.1.5&nbsp;&nbsp;</span>Blend</a></span></li></ul></li><li><span><a href=\"#Training-Everything\" data-toc-modified-id=\"Training-Everything-4.2\"><span class=\"toc-item-num\">4.2&nbsp;&nbsp;</span>Training Everything</a></span></li></ul></li></ul></div>"
   ]
  },
  {
   "cell_type": "markdown",
   "metadata": {},
   "source": [
    "<h1> Forewords </h1>"
   ]
  },
  {
   "cell_type": "markdown",
   "metadata": {
    "ExecuteTime": {
     "end_time": "2019-06-06T16:15:36.882665Z",
     "start_time": "2019-06-06T16:15:36.859727Z"
    }
   },
   "source": [
    "Hi, welcome to my submission! Nicholas here, a budding Data Scientist looking for entry-level data science jobs, with background in Mathematics-slash-Statistics and enjoyed some intense competitive maths in HS. Active musician but currently disrupted by my quest in learning AI stuff. What a disruptive technology indeed. Anyway, to keep it interesting (checking out others' codes are a nightmare!) and well-documented, I have decided to take this submission into Jupyter notebook (which you see right now) and added some bad jokes to showcase my (un)creativity.\n",
    "\n",
    "Sorry for the cheeky filename. Cannot help myself!\n",
    "\n",
    "Lastly, hope you enjoy checking my work out. At least if I don't score well, I entertain well. Cue *that* meme.\n",
    "\n",
    "![Honest work!](../imgs/honest.jpg)"
   ]
  },
  {
   "cell_type": "markdown",
   "metadata": {},
   "source": [
    "# Imports"
   ]
  },
  {
   "cell_type": "code",
   "execution_count": 137,
   "metadata": {
    "ExecuteTime": {
     "end_time": "2019-06-17T12:13:38.596466Z",
     "start_time": "2019-06-17T12:13:38.586491Z"
    }
   },
   "outputs": [],
   "source": [
    "# Import the data science trinity ;)\n",
    "import pandas as pd\n",
    "import numpy as np\n",
    "import matplotlib.pyplot as plt\n",
    "\n",
    "# Geohash library downloaded from: https://github.com/hkwi/python-geohash\n",
    "import geohash\n",
    "import datetime\n",
    "from sklearn.model_selection import train_test_split, RandomizedSearchCV\n",
    "from sklearn.metrics import r2_score, mean_squared_error\n",
    "from sklearn.multioutput import RegressorChain\n",
    "from sklearn.linear_model import LinearRegression, BayesianRidge\n",
    "from sklearn.preprocessing import MinMaxScaler\n",
    "from scipy.stats import expon\n",
    "from xgboost import XGBRegressor\n",
    "from lightgbm import LGBMRegressor\n",
    "import pickle\n",
    "import warnings\n",
    "\n",
    "warnings.filterwarnings(\"ignore\")"
   ]
  },
  {
   "cell_type": "markdown",
   "metadata": {},
   "source": [
    "# Get Data, Explore, and Process\n",
    "This submission will focus on getting the important features. I am a firm believer of simple and fast models plus actually predictive features will solve most problems elegantly. Throughout this submission, I am trying my almost best to reduce the time complexities of the processes. I am going for my graduation trip to Korea from 7th to 16th June, wish me fun; hence not too much time for me to tinker too much of that, or excessive hyperparameter tuning.\n",
    "\n",
    "Edit (16th June): It was really fun! Hit me up for recommendations."
   ]
  },
  {
   "cell_type": "code",
   "execution_count": 107,
   "metadata": {
    "ExecuteTime": {
     "end_time": "2019-06-17T09:28:31.630633Z",
     "start_time": "2019-06-17T09:28:25.254880Z"
    },
    "scrolled": true
   },
   "outputs": [
    {
     "data": {
      "text/html": [
       "<div>\n",
       "<style scoped>\n",
       "    .dataframe tbody tr th:only-of-type {\n",
       "        vertical-align: middle;\n",
       "    }\n",
       "\n",
       "    .dataframe tbody tr th {\n",
       "        vertical-align: top;\n",
       "    }\n",
       "\n",
       "    .dataframe thead th {\n",
       "        text-align: right;\n",
       "    }\n",
       "</style>\n",
       "<table border=\"1\" class=\"dataframe\">\n",
       "  <thead>\n",
       "    <tr style=\"text-align: right;\">\n",
       "      <th></th>\n",
       "      <th>geohash6</th>\n",
       "      <th>day</th>\n",
       "      <th>timestamp</th>\n",
       "      <th>demand</th>\n",
       "    </tr>\n",
       "  </thead>\n",
       "  <tbody>\n",
       "    <tr>\n",
       "      <th>835238</th>\n",
       "      <td>qp0djm</td>\n",
       "      <td>39</td>\n",
       "      <td>1:30</td>\n",
       "      <td>0.043807</td>\n",
       "    </tr>\n",
       "    <tr>\n",
       "      <th>913422</th>\n",
       "      <td>qp09jp</td>\n",
       "      <td>39</td>\n",
       "      <td>14:0</td>\n",
       "      <td>0.054567</td>\n",
       "    </tr>\n",
       "    <tr>\n",
       "      <th>4032133</th>\n",
       "      <td>qp0djm</td>\n",
       "      <td>21</td>\n",
       "      <td>2:15</td>\n",
       "      <td>0.028690</td>\n",
       "    </tr>\n",
       "  </tbody>\n",
       "</table>\n",
       "</div>"
      ],
      "text/plain": [
       "        geohash6  day timestamp    demand\n",
       "835238    qp0djm   39      1:30  0.043807\n",
       "913422    qp09jp   39      14:0  0.054567\n",
       "4032133   qp0djm   21      2:15  0.028690"
      ]
     },
     "execution_count": 107,
     "metadata": {},
     "output_type": "execute_result"
    }
   ],
   "source": [
    "df = pd.read_csv('../data/raw/training.csv')\n",
    "df.sample(3)"
   ]
  },
  {
   "cell_type": "markdown",
   "metadata": {},
   "source": [
    "## Time Features"
   ]
  },
  {
   "cell_type": "code",
   "execution_count": 108,
   "metadata": {
    "ExecuteTime": {
     "end_time": "2019-06-17T09:28:47.909099Z",
     "start_time": "2019-06-17T09:28:31.634624Z"
    }
   },
   "outputs": [],
   "source": [
    "hrs = np.array([int(x.split(':')[0]) for x in df['timestamp']])\n",
    "mns = np.array([int(x.split(':')[1]) for x in df['timestamp']])"
   ]
  },
  {
   "cell_type": "markdown",
   "metadata": {},
   "source": [
    "Datetime indexing takes a lot of time, so we will use timestep indexing instead."
   ]
  },
  {
   "cell_type": "code",
   "execution_count": 109,
   "metadata": {
    "ExecuteTime": {
     "end_time": "2019-06-17T09:29:08.654019Z",
     "start_time": "2019-06-17T09:28:47.913088Z"
    }
   },
   "outputs": [
    {
     "data": {
      "text/html": [
       "<div>\n",
       "<style scoped>\n",
       "    .dataframe tbody tr th:only-of-type {\n",
       "        vertical-align: middle;\n",
       "    }\n",
       "\n",
       "    .dataframe tbody tr th {\n",
       "        vertical-align: top;\n",
       "    }\n",
       "\n",
       "    .dataframe thead th {\n",
       "        text-align: right;\n",
       "    }\n",
       "</style>\n",
       "<table border=\"1\" class=\"dataframe\">\n",
       "  <thead>\n",
       "    <tr style=\"text-align: right;\">\n",
       "      <th></th>\n",
       "      <th>geohash6</th>\n",
       "      <th>demand</th>\n",
       "      <th>hr</th>\n",
       "    </tr>\n",
       "    <tr>\n",
       "      <th>timestep</th>\n",
       "      <th></th>\n",
       "      <th></th>\n",
       "      <th></th>\n",
       "    </tr>\n",
       "  </thead>\n",
       "  <tbody>\n",
       "    <tr>\n",
       "      <th>2158</th>\n",
       "      <td>qp0d49</td>\n",
       "      <td>0.250804</td>\n",
       "      <td>11</td>\n",
       "    </tr>\n",
       "    <tr>\n",
       "      <th>4420</th>\n",
       "      <td>qp093r</td>\n",
       "      <td>0.078671</td>\n",
       "      <td>1</td>\n",
       "    </tr>\n",
       "    <tr>\n",
       "      <th>2916</th>\n",
       "      <td>qp09db</td>\n",
       "      <td>1.000000</td>\n",
       "      <td>9</td>\n",
       "    </tr>\n",
       "  </tbody>\n",
       "</table>\n",
       "</div>"
      ],
      "text/plain": [
       "         geohash6    demand  hr\n",
       "timestep                       \n",
       "2158       qp0d49  0.250804  11\n",
       "4420       qp093r  0.078671   1\n",
       "2916       qp09db  1.000000   9"
      ]
     },
     "execution_count": 109,
     "metadata": {},
     "output_type": "execute_result"
    }
   ],
   "source": [
    "df['timestep'] = [int(x) for x in 96*df['day']+4*hrs+mns/15-96]\n",
    "df.set_index('timestep', inplace=True)\n",
    "\n",
    "df['hr'] = [str(x) for x in hrs]\n",
    "df.drop(columns=['timestamp','day'], inplace=True)\n",
    "df.sample(3)"
   ]
  },
  {
   "cell_type": "markdown",
   "metadata": {},
   "source": [
    "## Locales\n",
    "_\"Let's call it **locale**, for lack of better word and lack of effort to look for better words.\" - me_"
   ]
  },
  {
   "cell_type": "code",
   "execution_count": 110,
   "metadata": {
    "ExecuteTime": {
     "end_time": "2019-06-17T09:29:19.497017Z",
     "start_time": "2019-06-17T09:29:08.659999Z"
    }
   },
   "outputs": [
    {
     "name": "stdout",
     "output_type": "stream",
     "text": [
      "# different coordinates: 1329\n",
      "# different longitudes: 36\n",
      "# different latitudes: 46\n"
     ]
    }
   ],
   "source": [
    "# Get all possible geohash values\n",
    "gh = list(set(df['geohash6'].values))\n",
    "coords = {x:geohash.decode(x) for x in gh}\n",
    "\n",
    "df['lat'] = [coords[x][0] for x in df['geohash6']]\n",
    "df['lon'] = [coords[x][1] for x in df['geohash6']]\n",
    "\n",
    "print(\"# different coordinates: {}\".format(len(gh)))\n",
    "\n",
    "lats = [x[0] for x in list(coords.values())]\n",
    "lons = [x[1] for x in list(coords.values())]\n",
    "\n",
    "print(\"# different longitudes: {}\".format(len(set(lons))))\n",
    "print(\"# different latitudes: {}\".format(len(set(lats))))"
   ]
  },
  {
   "cell_type": "markdown",
   "metadata": {
    "ExecuteTime": {
     "end_time": "2019-06-04T14:30:06.026899Z",
     "start_time": "2019-06-04T14:30:06.021715Z"
    }
   },
   "source": [
    "Because 1329 is not too different to 36x46, the coordinate grid is quite dense. We will replace the coordinate pairs to _locales_ of size 0.05x0.05 degrees squared. The method below is by far the most time-efficient!"
   ]
  },
  {
   "cell_type": "code",
   "execution_count": 111,
   "metadata": {
    "ExecuteTime": {
     "end_time": "2019-06-17T09:29:36.126614Z",
     "start_time": "2019-06-17T09:29:19.502156Z"
    }
   },
   "outputs": [],
   "source": [
    "lsize = 0.05\n",
    "df['locale'] = [str(int(x))+str(int(y)) for x,y in zip((df['lat']-min(lats))/lsize, (df['lon']-min(lons))/lsize)]\n",
    "\n",
    "locales = list(set(df['locale'].values))\n",
    "df = df.drop(columns = ['lat', 'lon'])"
   ]
  },
  {
   "cell_type": "markdown",
   "metadata": {},
   "source": [
    "Fill gaps in time with hourly mean* of every geohash area. In case there is consistently no data at every hour of day, we impute 0.\n",
    "\n",
    "Note: Will be better if you can make this faster. I have noticed that splitting into locales first brings significant improvement of speed.\n",
    "\n",
    "**I know this is a crime for using data that is to be used as test data for feature engineering, but if the training set and test set comes from the same distribution(therefore same statistical properties e.g. mean), this will not matter since we are using exactly the mean! This will however restrict us to split the train-test set randomly. We could also use the mean for the last certain window length but this time I will leave it at that.*\n",
    "\n",
    "***\n",
    "***\n",
    "\n",
    "Oh just thought of possibly good features too: Moving averages - both standard and exponentially-weighted, and logical choices of previous demand to capture trends, autoregression, and time dependencies.\n",
    "\n",
    "On EWMA: I mean, I could have used Bayesian optimization to find the theoretically justified _com_ parameter, perhaps to maximize the total autocorrelation of the moving averages to the actual time series up to lag 5, but a little experimentation with the numbers say that the number below works pretty decently. I do not have too much time! <br>\n",
    "On EMA: Just go trigger happy with the window length."
   ]
  },
  {
   "cell_type": "code",
   "execution_count": 112,
   "metadata": {
    "ExecuteTime": {
     "end_time": "2019-06-17T09:32:57.521928Z",
     "start_time": "2019-06-17T09:29:36.132527Z"
    },
    "code_folding": []
   },
   "outputs": [
    {
     "name": "stdout",
     "output_type": "stream",
     "text": [
      "200 geohashes done.\n",
      "400 geohashes done.\n",
      "Doesn't logs like this make waiting much more bearable?\n",
      "600 geohashes done.\n",
      "800 geohashes done.\n",
      "1000 geohashes done.\n",
      "Doesn't logs like this make waiting much more bearable?\n",
      "1200 geohashes done.\n"
     ]
    }
   ],
   "source": [
    "# Get maximum timestep\n",
    "maxin = max(np.array(df.index))\n",
    "\n",
    "shut_your_traps = False\n",
    "\n",
    "dfs = []\n",
    "count = 0\n",
    "for l in locales:\n",
    "    dff = df[df['locale'] == l]\n",
    "    ghs = list(set(dff['geohash6']))\n",
    "    for g in ghs:\n",
    "        dfff = dff[dff['geohash6']==g].reindex([x for x in range(maxin)])\n",
    "        dfff['hr'] = [int(x) for x in np.array(dfff.index)%96/4]\n",
    "        dfff['locale'] = l\n",
    "        dfff['geohash6'] = g\n",
    "        # All the 5 next timesteps after, but the day before\n",
    "        dfff['prev'] = dfff['demand'].shift(96)\n",
    "        # Here lies the possible crime - filling empty values with mean demand of geohash area - brace yourselves\n",
    "        dfff['demand'] = dfff.groupby(['hr'])['demand'].apply(lambda x: x.fillna(x.mean()))\n",
    "        dfff['demand'].fillna(0, inplace = True)\n",
    "        # Moving averages\n",
    "        dfff['ewm'] = dfff['demand'].ewm(com=0.35).mean()\n",
    "        dfff['ma4'] = dfff['demand'].rolling(4).mean()\n",
    "        dfff['ma12'] = dfff['demand'].rolling(12).mean()\n",
    "        dfff['ma24'] = dfff['demand'].rolling(24).mean()\n",
    "        dfs.append(dfff)\n",
    "        count+=1\n",
    "        if count%200==0:\n",
    "            print(\"{} geohashes done.\".format(count))\n",
    "        if (count%500==0) and (not shut_your_traps):\n",
    "            print(\"Doesn't logs like this make waiting much more bearable?\")"
   ]
  },
  {
   "cell_type": "code",
   "execution_count": 113,
   "metadata": {
    "ExecuteTime": {
     "end_time": "2019-06-17T09:32:58.118334Z",
     "start_time": "2019-06-17T09:32:57.530905Z"
    }
   },
   "outputs": [
    {
     "data": {
      "image/png": "[encoded data removed]",
      "text/plain": [
       "<Figure size 1152x216 with 1 Axes>"
      ]
     },
     "metadata": {
      "needs_background": "light"
     },
     "output_type": "display_data"
    }
   ],
   "source": [
    "# Sample imputed data from a single geohash area\n",
    "dfs[42]['demand'].plot(figsize = (16,3));"
   ]
  },
  {
   "cell_type": "markdown",
   "metadata": {},
   "source": [
    "Concatenate back all the imputed data. Now we have 1329(geohashes)x5855(timesteps), almost 8 million rows. Whoa.\n",
    "\n",
    "Also, at this point let's say we don't need geohash anymore."
   ]
  },
  {
   "cell_type": "code",
   "execution_count": 114,
   "metadata": {
    "ExecuteTime": {
     "end_time": "2019-06-17T09:33:09.619565Z",
     "start_time": "2019-06-17T09:32:58.138282Z"
    }
   },
   "outputs": [],
   "source": [
    "df = pd.concat(dfs)\n",
    "df.drop(columns=['geohash6'], inplace=True)"
   ]
  },
  {
   "cell_type": "markdown",
   "metadata": {},
   "source": [
    "Another possible set of features:\n",
    "- Mean of locale\n",
    "- Standard deviation of locale\n",
    "\n",
    "To see if the area is relatively busy/quiet within the locale. Again, this might be a crime for some of you. Sorry, I am new to this."
   ]
  },
  {
   "cell_type": "code",
   "execution_count": 115,
   "metadata": {
    "ExecuteTime": {
     "end_time": "2019-06-17T09:33:16.134142Z",
     "start_time": "2019-06-17T09:33:09.628541Z"
    }
   },
   "outputs": [],
   "source": [
    "df['loc_mean'] = df.groupby(['locale','hr'])['demand'].transform('mean')\n",
    "df['loc_std'] = df.groupby(['locale','hr'])['demand'].transform('std')"
   ]
  },
  {
   "cell_type": "markdown",
   "metadata": {},
   "source": [
    "## Time Features v2\n",
    "\n",
    "Add hour, week, DoW (day of week), and sin and cos to represent time distance (as time of day is cyclical).\n",
    "\n",
    "Fun Fact: Running all that stuff above took me and my puny laptop 90-150 seconds (excluding imports). But I would give anything for a good _feature engineering_. I guess it's time for me to start learning PySpark seriously.\n",
    "\n",
    "Fun Fact 2: At this point I almost succumbed to the urge to at least try a simple, untuned XGBoost model. Self-restraint."
   ]
  },
  {
   "cell_type": "code",
   "execution_count": 116,
   "metadata": {
    "ExecuteTime": {
     "end_time": "2019-06-17T09:34:18.848369Z",
     "start_time": "2019-06-17T09:33:16.140124Z"
    }
   },
   "outputs": [],
   "source": [
    "day = np.array([int(x/96) for x in df.index])\n",
    "brac = np.array([x%96 for x in df.index])\n",
    "df['wk'] = [int(x/7) for x in day]\n",
    "for i in range(1,7):\n",
    "    df['d'+str(i)] = (day%7 == i)\n",
    "\n",
    "df['sin'] = np.sin(brac*np.pi/48)\n",
    "df['cos'] = np.cos(brac*np.pi/48)\n",
    "\n",
    "df = 1*pd.get_dummies(df, columns=['hr'], prefix_sep='')"
   ]
  },
  {
   "cell_type": "markdown",
   "metadata": {},
   "source": [
    "Always hated this moment where I have to sacrifice some data.<br>\n",
    "Like dramatic movies, someone has to die in the end. Oh well."
   ]
  },
  {
   "cell_type": "code",
   "execution_count": 117,
   "metadata": {
    "ExecuteTime": {
     "end_time": "2019-06-17T09:34:39.693610Z",
     "start_time": "2019-06-17T09:34:18.890258Z"
    }
   },
   "outputs": [],
   "source": [
    "df.dropna(inplace=True)"
   ]
  },
  {
   "cell_type": "markdown",
   "metadata": {},
   "source": [
    "# Training\n",
    "Probably it's just me that thinks making 30+ different models for the submission is a good idea. Certainly doable with your huge computing cluster but not for me and my puny laptop (training everything made it crash due to memory error). Anyway, the plan is to train, blend (forget about meta-model stacking as it is heavy and overfits often), and pickle the models.\n",
    "\n",
    "The popular way to evaluate may include KFold-ing the whole dataset, but since I am splitting it to multiple subsets, I will just do standard train-test split and evaluate with models with the area-specific hyperparameters.\n",
    "\n",
    "Training uses current conditions to predict 5 steps into the future."
   ]
  },
  {
   "cell_type": "code",
   "execution_count": 118,
   "metadata": {
    "ExecuteTime": {
     "end_time": "2019-06-17T09:35:15.712253Z",
     "start_time": "2019-06-17T09:34:39.710561Z"
    }
   },
   "outputs": [],
   "source": [
    "df_byloc = {}\n",
    "for l in locales:\n",
    "    df_byloc[l] = df[df['locale']==l].drop(columns=['locale'])"
   ]
  },
  {
   "cell_type": "code",
   "execution_count": 119,
   "metadata": {
    "ExecuteTime": {
     "end_time": "2019-06-17T09:35:16.043369Z",
     "start_time": "2019-06-17T09:35:15.720231Z"
    }
   },
   "outputs": [],
   "source": [
    "dloc = df_byloc[locales[0]]\n",
    "target = []\n",
    "for i in range(5):\n",
    "    target.append(dloc.iloc[:,0].shift(-i-1))\n",
    "target = pd.concat(target, axis=1)[:-5]\n",
    "xtrain, xtest, ytrain, ytest = train_test_split(dloc.iloc[:-5,:], target,\n",
    "                                                test_size=0.1, shuffle = True,\n",
    "                                                random_state = 42)\n",
    "sc = MinMaxScaler(feature_range=(0,1))\n",
    "xtrain = sc.fit_transform(xtrain)\n",
    "xtest = sc.transform(xtest)"
   ]
  },
  {
   "cell_type": "markdown",
   "metadata": {},
   "source": [
    "## Testing the Waters with Prediction on Single Locale"
   ]
  },
  {
   "cell_type": "markdown",
   "metadata": {},
   "source": [
    "### Linear Regression\n",
    "Just for the baseline/entrée and quick training time, never expected it to do well."
   ]
  },
  {
   "cell_type": "code",
   "execution_count": 120,
   "metadata": {
    "ExecuteTime": {
     "end_time": "2019-06-17T09:35:17.135446Z",
     "start_time": "2019-06-17T09:35:16.051347Z"
    }
   },
   "outputs": [
    {
     "data": {
      "text/plain": [
       "0.75645731542439"
      ]
     },
     "execution_count": 120,
     "metadata": {},
     "output_type": "execute_result"
    }
   ],
   "source": [
    "lr = RegressorChain(LinearRegression())\n",
    "lr.fit(xtrain,ytrain)\n",
    "pred_lr = lr.predict(xtest)\n",
    "r2_score(ytest, pred_lr, multioutput='variance_weighted')"
   ]
  },
  {
   "cell_type": "markdown",
   "metadata": {},
   "source": [
    "Modest."
   ]
  },
  {
   "cell_type": "markdown",
   "metadata": {},
   "source": [
    "### Ridge Regression Whose Alpha is Searched by Bayes\n",
    "![Thomas](../imgs/bayes.jpg) There really is no reason to put his picture here, but I admire him! Anyway, I like to keep the hyperparameters as is and let Bayes do his magic."
   ]
  },
  {
   "cell_type": "code",
   "execution_count": 121,
   "metadata": {
    "ExecuteTime": {
     "end_time": "2019-06-17T09:35:23.590282Z",
     "start_time": "2019-06-17T09:35:17.145419Z"
    }
   },
   "outputs": [
    {
     "data": {
      "text/plain": [
       "0.7565683680597188"
      ]
     },
     "execution_count": 121,
     "metadata": {},
     "output_type": "execute_result"
    }
   ],
   "source": [
    "br = RegressorChain(BayesianRidge(), cv=3)\n",
    "br.fit(xtrain,ytrain)\n",
    "pred_br = br.predict(xtest)\n",
    "r2_score(ytest, pred_br, multioutput='variance_weighted')"
   ]
  },
  {
   "cell_type": "markdown",
   "metadata": {},
   "source": [
    "Not better."
   ]
  },
  {
   "cell_type": "markdown",
   "metadata": {},
   "source": [
    "### LightGBM, Everyone's Favorite But Not XGBoost\n",
    "I have a good feeling that tree-based models will work wonders. Let's start with some of my WildInstinct™ hyperparameters (also based on the little experience that I have)."
   ]
  },
  {
   "cell_type": "code",
   "execution_count": 122,
   "metadata": {
    "ExecuteTime": {
     "end_time": "2019-06-17T09:35:39.146565Z",
     "start_time": "2019-06-17T09:35:23.596162Z"
    }
   },
   "outputs": [
    {
     "data": {
      "text/plain": [
       "0.7890608550449413"
      ]
     },
     "execution_count": 122,
     "metadata": {},
     "output_type": "execute_result"
    }
   ],
   "source": [
    "lgb = RegressorChain(LGBMRegressor(n_estimators=200,\n",
    "                                   num_leaves=63,\n",
    "                                   max_depth=6,\n",
    "                                   subsample=0.8,\n",
    "                                   colsample_bytree=0.8,\n",
    "                                   reg_alpha=0.1,\n",
    "                                   learning_rate=0.3,\n",
    "                                   n_jobs=-1))\n",
    "lgb.fit(xtrain,ytrain)\n",
    "pred_lgb = lgb.predict(xtest)\n",
    "r2_score(ytest, pred_lgb, multioutput='variance_weighted')"
   ]
  },
  {
   "cell_type": "code",
   "execution_count": 123,
   "metadata": {
    "ExecuteTime": {
     "end_time": "2019-06-17T09:35:39.203437Z",
     "start_time": "2019-06-17T09:35:39.154552Z"
    }
   },
   "outputs": [
    {
     "data": {
      "text/plain": [
       "demand    0.021539\n",
       "demand    0.023453\n",
       "demand    0.023620\n",
       "demand    0.024585\n",
       "demand    0.024391\n",
       "dtype: float64"
      ]
     },
     "execution_count": 123,
     "metadata": {},
     "output_type": "execute_result"
    }
   ],
   "source": [
    "np.sqrt(((ytest-pred_lgb)**2).mean())"
   ]
  },
  {
   "cell_type": "markdown",
   "metadata": {},
   "source": [
    "Is that an improvement?! Ridiculous!"
   ]
  },
  {
   "cell_type": "markdown",
   "metadata": {},
   "source": [
    "### XGBoost, Everyone's Favorite But Not LightGBM\n",
    "WildInstinct™ on play again!"
   ]
  },
  {
   "cell_type": "code",
   "execution_count": 124,
   "metadata": {
    "ExecuteTime": {
     "end_time": "2019-06-17T09:38:23.522821Z",
     "start_time": "2019-06-17T09:35:39.211391Z"
    }
   },
   "outputs": [
    {
     "data": {
      "text/plain": [
       "0.7890222812564784"
      ]
     },
     "execution_count": 124,
     "metadata": {},
     "output_type": "execute_result"
    }
   ],
   "source": [
    "xgb = RegressorChain(XGBRegressor(n_estimators=200,\n",
    "                                  n_jobs=-1,\n",
    "                                  max_depth=5,\n",
    "                                  colsample_bylevel=0.6,\n",
    "                                  colsample_bytree=0.8,\n",
    "                                  reg_alpha=0.1))\n",
    "xgb.fit(xtrain,ytrain)\n",
    "pred_xgb = xgb.predict(xtest)\n",
    "r2_score(ytest, pred_xgb, multioutput='variance_weighted')"
   ]
  },
  {
   "cell_type": "markdown",
   "metadata": {},
   "source": [
    "I could spam all the methods I know, but I think that's all for today."
   ]
  },
  {
   "cell_type": "markdown",
   "metadata": {},
   "source": [
    "### Blend\n",
    "Just because it performs better!"
   ]
  },
  {
   "cell_type": "code",
   "execution_count": 125,
   "metadata": {
    "ExecuteTime": {
     "end_time": "2019-06-17T09:38:23.561717Z",
     "start_time": "2019-06-17T09:38:23.531799Z"
    }
   },
   "outputs": [
    {
     "data": {
      "text/plain": [
       "0.793837887474277"
      ]
     },
     "execution_count": 125,
     "metadata": {},
     "output_type": "execute_result"
    }
   ],
   "source": [
    "pred_bld = (pred_lgb+pred_xgb)/2\n",
    "r2_score(ytest, pred_bld, multioutput='variance_weighted')"
   ]
  },
  {
   "cell_type": "markdown",
   "metadata": {},
   "source": [
    "## Training Everything\n",
    "I will use only LightGBM for this, as other methods either don't work as well, or inference/tuning takes too long. Also remove locales with **less than 5000 samples**, as with 96 different time buckets in a day, it is not enough to make a powerful inference on the behaviour of the data."
   ]
  },
  {
   "cell_type": "code",
   "execution_count": 138,
   "metadata": {
    "ExecuteTime": {
     "end_time": "2019-06-17T12:17:23.072761Z",
     "start_time": "2019-06-17T12:17:23.063785Z"
    }
   },
   "outputs": [
    {
     "name": "stdout",
     "output_type": "stream",
     "text": [
      "Removed locale 40, only has 2195 data samples\n"
     ]
    }
   ],
   "source": [
    "for l in locales:\n",
    "    dloc = df_byloc[l]\n",
    "    if dloc.shape[0]<5000:\n",
    "        locales.remove(l)\n",
    "        print(\"Removed locale {}, only has {} data samples\".format(l,dloc.shape[0]))"
   ]
  },
  {
   "cell_type": "markdown",
   "metadata": {},
   "source": [
    "<b>WARNING!</b>\n",
    "\n",
    "Training takes super long."
   ]
  },
  {
   "cell_type": "code",
   "execution_count": 141,
   "metadata": {
    "ExecuteTime": {
     "end_time": "2019-06-17T15:17:01.255328Z",
     "start_time": "2019-06-17T12:24:59.576398Z"
    }
   },
   "outputs": [
    {
     "name": "stdout",
     "output_type": "stream",
     "text": [
      "Done 3/36\n",
      "Done 6/36\n",
      "Done 9/36\n",
      "Done 12/36\n",
      "Done 15/36\n",
      "Done 18/36\n",
      "Done 21/36\n",
      "Done 24/36\n",
      "Done 27/36\n",
      "Done 30/36\n",
      "Done 33/36\n",
      "Done 36/36\n"
     ]
    }
   ],
   "source": [
    "r2s = []\n",
    "rmses = []\n",
    "cou = 0\n",
    "param_dist = {'base_estimator__colsample_bytree': [x/10 for x in range(6,10)],\n",
    "              'base_estimator__learning_rate': [0.1, 0.3],\n",
    "              'base_estimator__num_leaves': [2**x-1 for x in range(4,7)],\n",
    "              'base_estimator__reg_alpha': expon(scale = 0.1),\n",
    "              'base_estimator__reg_lambda': expon(scale = 0.01),\n",
    "              'base_estimator__subsample': [x/10 for x in range(6,10)]}\n",
    "\n",
    "for l in locales:\n",
    "    dloc = df_byloc[l]\n",
    "    target = []\n",
    "    for i in range(5):\n",
    "        target.append(dloc.iloc[:,0].shift(-i-1))\n",
    "    target = pd.concat(target, axis=1)[:-5]\n",
    "    xtrain, xtest, ytrain, ytest = train_test_split(dloc.iloc[:-5,:], target,\n",
    "                                                    test_size=0.1, shuffle = True,\n",
    "                                                    random_state = 42)\n",
    "    sc = MinMaxScaler(feature_range=(0,1))\n",
    "    xtrain = sc.fit_transform(xtrain)\n",
    "    xtest = sc.transform(xtest)\n",
    "    \n",
    "    # Can use more estimators and BayesSearchCV here, so that every locale gets a different\n",
    "    # hyperparameter based on our prior, but takes too much time. I have to use my laptop for something else!\n",
    "    rchain = RegressorChain(LGBMRegressor(n_estimators=200,\n",
    "                                          num_leaves=63,\n",
    "                                          max_depth=6,\n",
    "                                          subsample=0.8,\n",
    "                                          colsample_bytree=0.8,\n",
    "                                          reg_alpha=0.1,\n",
    "                                          learning_rate=0.3,\n",
    "                                          n_jobs=-1))\n",
    "    lgb = RandomizedSearchCV(rchain,\n",
    "                             param_dist,\n",
    "                             n_iter=10,\n",
    "                             n_jobs=-1,\n",
    "                             cv=3)\n",
    "    lgb.fit(xtrain,ytrain)\n",
    "    pred_lgb = lgb.predict(xtest)\n",
    "    r2 = r2_score(ytest, pred_lgb)\n",
    "    r2s.append(r2)\n",
    "    rmse = np.sqrt(mean_squared_error(ytest, pred_lgb))\n",
    "    rmses.append(rmse)\n",
    "    cou += 1\n",
    "    if cou%3 == 0:\n",
    "        print(\"Done {}/{}\".format(cou, len(locales)))"
   ]
  },
  {
   "cell_type": "code",
   "execution_count": 142,
   "metadata": {
    "ExecuteTime": {
     "end_time": "2019-06-17T15:17:05.772250Z",
     "start_time": "2019-06-17T15:17:05.660547Z"
    }
   },
   "outputs": [
    {
     "data": {
      "text/html": [
       "<div>\n",
       "<style scoped>\n",
       "    .dataframe tbody tr th:only-of-type {\n",
       "        vertical-align: middle;\n",
       "    }\n",
       "\n",
       "    .dataframe tbody tr th {\n",
       "        vertical-align: top;\n",
       "    }\n",
       "\n",
       "    .dataframe thead th {\n",
       "        text-align: right;\n",
       "    }\n",
       "</style>\n",
       "<table border=\"1\" class=\"dataframe\">\n",
       "  <thead>\n",
       "    <tr style=\"text-align: right;\">\n",
       "      <th></th>\n",
       "      <th>0</th>\n",
       "    </tr>\n",
       "  </thead>\n",
       "  <tbody>\n",
       "    <tr>\n",
       "      <th>count</th>\n",
       "      <td>36.000000</td>\n",
       "    </tr>\n",
       "    <tr>\n",
       "      <th>mean</th>\n",
       "      <td>0.836733</td>\n",
       "    </tr>\n",
       "    <tr>\n",
       "      <th>std</th>\n",
       "      <td>0.094177</td>\n",
       "    </tr>\n",
       "    <tr>\n",
       "      <th>min</th>\n",
       "      <td>0.596200</td>\n",
       "    </tr>\n",
       "    <tr>\n",
       "      <th>25%</th>\n",
       "      <td>0.765361</td>\n",
       "    </tr>\n",
       "    <tr>\n",
       "      <th>50%</th>\n",
       "      <td>0.849126</td>\n",
       "    </tr>\n",
       "    <tr>\n",
       "      <th>75%</th>\n",
       "      <td>0.920602</td>\n",
       "    </tr>\n",
       "    <tr>\n",
       "      <th>max</th>\n",
       "      <td>0.969613</td>\n",
       "    </tr>\n",
       "  </tbody>\n",
       "</table>\n",
       "</div>"
      ],
      "text/plain": [
       "               0\n",
       "count  36.000000\n",
       "mean    0.836733\n",
       "std     0.094177\n",
       "min     0.596200\n",
       "25%     0.765361\n",
       "50%     0.849126\n",
       "75%     0.920602\n",
       "max     0.969613"
      ]
     },
     "execution_count": 142,
     "metadata": {},
     "output_type": "execute_result"
    }
   ],
   "source": [
    "r2df = pd.DataFrame(r2s)\n",
    "r2df.describe()"
   ]
  },
  {
   "cell_type": "code",
   "execution_count": 143,
   "metadata": {
    "ExecuteTime": {
     "end_time": "2019-06-17T15:17:10.861637Z",
     "start_time": "2019-06-17T15:17:10.490630Z"
    }
   },
   "outputs": [
    {
     "data": {
      "image/png": "[encoded data removed]",
      "text/plain": [
       "<Figure size 432x288 with 1 Axes>"
      ]
     },
     "metadata": {
      "needs_background": "light"
     },
     "output_type": "display_data"
    }
   ],
   "source": [
    "plt.scatter([df_byloc[x].shape[0] for x in locales], r2s)\n",
    "plt.title('Locale size vs R2 scores');"
   ]
  },
  {
   "cell_type": "markdown",
   "metadata": {},
   "source": [
    "Generally locales with more samples allows the model to perform better. This is good since it makes my score better!"
   ]
  },
  {
   "cell_type": "code",
   "execution_count": null,
   "metadata": {},
   "outputs": [],
   "source": []
  }
 ],
 "metadata": {
  "kernelspec": {
   "display_name": "Python 3",
   "language": "python",
   "name": "python3"
  },
  "language_info": {
   "codemirror_mode": {
    "name": "ipython",
    "version": 3
   },
   "file_extension": ".py",
   "mimetype": "text/x-python",
   "name": "python",
   "nbconvert_exporter": "python",
   "pygments_lexer": "ipython3",
   "version": "3.6.8"
  },
  "toc": {
   "base_numbering": 1,
   "nav_menu": {},
   "number_sections": true,
   "sideBar": true,
   "skip_h1_title": false,
   "title_cell": "Table of Contents",
   "title_sidebar": "Contents",
   "toc_cell": true,
   "toc_position": {},
   "toc_section_display": true,
   "toc_window_display": false
  }
 },
 "nbformat": 4,
 "nbformat_minor": 2
}
